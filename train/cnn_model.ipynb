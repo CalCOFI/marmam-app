{
 "cells": [
  {
   "cell_type": "code",
   "execution_count": 28,
   "metadata": {},
   "outputs": [],
   "source": [
    "import torch\n",
    "import torch.nn as nn\n",
    "import torch.nn.functional as F\n",
    "from torch.utils.data import DataLoader\n",
    "from torchvision import datasets, transforms\n",
    "from torch.utils.data import random_split"
   ]
  },
  {
   "cell_type": "code",
   "execution_count": 57,
   "metadata": {},
   "outputs": [],
   "source": [
    "class SimpleCNN(nn.Module):\n",
    "    def __init__(self, num_classes):\n",
    "        super(SimpleCNN, self).__init__()\n",
    "        self.conv1 = nn.Conv2d(3, 32, kernel_size=3, stride=1, padding=1)\n",
    "        self.pool = nn.MaxPool2d(kernel_size=2, stride=2, padding=0)\n",
    "        self.conv2 = nn.Conv2d(32, 64, kernel_size=3, stride=1, padding=1)\n",
    "        height_after_pooling = (201 // 2) // 2\n",
    "        width_after_pooling = (111 // 2) // 2\n",
    "        self.fc1 = nn.Linear(64 * height_after_pooling * width_after_pooling, 512)  # Adjust the linear layer size based on your input\n",
    "        self.fc2 = nn.Linear(512, num_classes)\n",
    "\n",
    "    def forward(self, x):\n",
    "        x = self.pool(F.relu(self.conv1(x)))\n",
    "        x = self.pool(F.relu(self.conv2(x)))\n",
    "        height_after_pooling = (201 // 2) // 2\n",
    "        width_after_pooling = (111 // 2) // 2\n",
    "        x = x.view(-1, 64 * height_after_pooling * width_after_pooling)  # Flatten the tensor\n",
    "        x = F.relu(self.fc1(x))\n",
    "        x = self.fc2(x)\n",
    "        return x\n"
   ]
  },
  {
   "cell_type": "code",
   "execution_count": 58,
   "metadata": {},
   "outputs": [],
   "source": [
    "transform = transforms.Compose([\n",
    "    transforms.Resize((201, 111)), \n",
    "    transforms.ToTensor(),\n",
    "    transforms.Normalize(mean=[0.5], std=[0.5])\n",
    "])\n"
   ]
  },
  {
   "cell_type": "code",
   "execution_count": 59,
   "metadata": {},
   "outputs": [],
   "source": [
    "full_dataset = datasets.ImageFolder(root='C:/D/Puyuan/UCSB/Capstone-Scripps/denoise_spectrogram', transform=transform)\n",
    "\n",
    "train_size = int(0.8 * len(full_dataset))\n",
    "test_size = len(full_dataset) - train_size \n",
    "train_dataset, test_dataset = random_split(full_dataset, [train_size, test_size])\n",
    "\n",
    "train_loader = DataLoader(dataset=train_dataset, batch_size=32, shuffle=True)\n",
    "test_loader = DataLoader(dataset=test_dataset, batch_size=32, shuffle=False)"
   ]
  },
  {
   "cell_type": "code",
   "execution_count": 60,
   "metadata": {},
   "outputs": [],
   "source": [
    "model = SimpleCNN(num_classes=3)  # Replace with your actual number of classes\n",
    "criterion = nn.CrossEntropyLoss()\n",
    "optimizer = torch.optim.Adam(model.parameters(), lr=0.001)\n"
   ]
  },
  {
   "cell_type": "code",
   "execution_count": 61,
   "metadata": {},
   "outputs": [
    {
     "name": "stdout",
     "output_type": "stream",
     "text": [
      "Epoch 1/10, Loss: 9.672756910324097\n",
      "Epoch 2/10, Loss: 3.978116512298584\n",
      "Epoch 3/10, Loss: 4.489539593458176\n",
      "Epoch 4/10, Loss: 0.989498496055603\n",
      "Epoch 5/10, Loss: 0.5928525626659393\n",
      "Epoch 6/10, Loss: 0.543762817978859\n",
      "Epoch 7/10, Loss: 0.43430860340595245\n",
      "Epoch 8/10, Loss: 0.23933261260390282\n",
      "Epoch 9/10, Loss: 0.20708658918738365\n",
      "Epoch 10/10, Loss: 0.18962598592042923\n"
     ]
    }
   ],
   "source": [
    "def train_model(model, criterion, optimizer, train_loader, num_epochs):\n",
    "    for epoch in range(num_epochs):\n",
    "        model.train()\n",
    "        running_loss = 0.0\n",
    "        for images, labels in train_loader:\n",
    "            optimizer.zero_grad()\n",
    "            outputs = model(images)\n",
    "            loss = criterion(outputs, labels)\n",
    "            loss.backward()\n",
    "            optimizer.step()\n",
    "            running_loss += loss.item()\n",
    "        print(f'Epoch {epoch+1}/{num_epochs}, Loss: {running_loss/len(train_loader)}')\n",
    "\n",
    "num_epochs = 10  # Adjust as needed\n",
    "train_model(model, criterion, optimizer, train_loader, num_epochs)\n"
   ]
  },
  {
   "cell_type": "code",
   "execution_count": 66,
   "metadata": {},
   "outputs": [
    {
     "name": "stdout",
     "output_type": "stream",
     "text": [
      "[[1 2]\n",
      " [1 6]]\n",
      "              precision    recall  f1-score   support\n",
      "\n",
      "           1       0.50      0.33      0.40         3\n",
      "           2       0.75      0.86      0.80         7\n",
      "\n",
      "    accuracy                           0.70        10\n",
      "   macro avg       0.62      0.60      0.60        10\n",
      "weighted avg       0.68      0.70      0.68        10\n",
      "\n"
     ]
    }
   ],
   "source": [
    "from sklearn.metrics import confusion_matrix, classification_report, roc_auc_score\n",
    "import numpy as np\n",
    "\n",
    "true_labels = []\n",
    "model_predictions = []\n",
    "\n",
    "with torch.no_grad(): \n",
    "    for images, labels in test_loader:\n",
    "        outputs = model(images) \n",
    "        _, predicted = torch.max(outputs.data, 1)  \n",
    "        true_labels.extend(labels.numpy())\n",
    "        model_predictions.extend(predicted.numpy())\n",
    "\n",
    "true_labels = np.array(true_labels)\n",
    "model_predictions = np.array(model_predictions)\n",
    "\n",
    "# Calculate the confusion matrix\n",
    "cm = confusion_matrix(true_labels, model_predictions)\n",
    "print(cm)\n",
    "\n",
    "# Calculate precision, recall, and F1-score\n",
    "print(classification_report(true_labels, model_predictions))\n",
    "\n"
   ]
  }
 ],
 "metadata": {
  "kernelspec": {
   "display_name": "Python 3",
   "language": "python",
   "name": "python3"
  },
  "language_info": {
   "codemirror_mode": {
    "name": "ipython",
    "version": 3
   },
   "file_extension": ".py",
   "mimetype": "text/x-python",
   "name": "python",
   "nbconvert_exporter": "python",
   "pygments_lexer": "ipython3",
   "version": "3.10.2"
  }
 },
 "nbformat": 4,
 "nbformat_minor": 2
}
